{
 "cells": [
  {
   "cell_type": "code",
   "execution_count": 3,
   "id": "de959aae",
   "metadata": {
    "ExecuteTime": {
     "end_time": "2023-05-26T00:38:10.649227Z",
     "start_time": "2023-05-26T00:38:10.637255Z"
    }
   },
   "outputs": [
    {
     "name": "stdout",
     "output_type": "stream",
     "text": [
      "|--01_지도시각화_스타벅스.ipynb\n",
      "|--4_4_seoul_starbucks_list.xlsx\n",
      "|--Untitled1.ipynb\n",
      "\n",
      " 0 directiories, 3 files\n"
     ]
    }
   ],
   "source": [
    "import glob, os.path\n",
    "ndir = nfile = 0\n",
    "\n",
    "\n",
    "def traverse(dir, depth):\n",
    "    \n",
    "    global ndir, nfile\n",
    "    \n",
    "    for obj in glob.glob(dir + '/*'):\n",
    "        if depth == 0:\n",
    "            prefix = '|--'\n",
    "        else:\n",
    "            prefix = '|' + '    ' * depth + '|--'\n",
    "\n",
    "        if os.path.isdir(obj):  # 디렉터리인 경우\n",
    "            ndir += 1\n",
    "            print(prefix + os.path.basename(obj))\n",
    "            traverse(obj, depth + 1)\n",
    "        elif os.path.isfile(obj):\n",
    "            nfile += 1\n",
    "            print(prefix + os.path.basename(obj))\n",
    "        else :\n",
    "            print(prefix + \"unknown object : \" + obj)\n",
    "\n",
    "if __name__ == '__main__':\n",
    "    traverse('.', 0) #현위치\n",
    "    print('\\n',ndir,'directiories,',nfile,'files')"
   ]
  },
  {
   "cell_type": "code",
   "execution_count": 6,
   "id": "8af11c7e",
   "metadata": {
    "ExecuteTime": {
     "end_time": "2023-05-26T00:40:47.178685Z",
     "start_time": "2023-05-26T00:40:47.167894Z"
    },
    "scrolled": false
   },
   "outputs": [
    {
     "name": "stdout",
     "output_type": "stream",
     "text": [
      "|--01_day\n",
      "|    |--01_주피터_에디터_사용법.ipynb\n",
      "|    |--02_Jupyter_Notebook_사용법.txt\n",
      "|--02_day\n",
      "|    |--01_조건문.ipynb\n",
      "|    |--02_반복문.ipynb\n",
      "|--03_day\n",
      "|    |--02_while.ipynb\n",
      "|    |--03_리스트_list.ipynb\n",
      "|--04_day\n",
      "|    |--01_List.ipynb\n",
      "|    |--loop_list_edit.py\n",
      "|    |--test.ipynb\n",
      "|--05_day\n",
      "|    |--01_Dict.ipynb\n",
      "|    |--강민지.py\n",
      "|--06_day\n",
      "|    |--01_튜플.ipynb\n",
      "|    |--02_함수_def.ipynb\n",
      "|--07_day\n",
      "|    |--01_Class.ipynb\n",
      "|    |--02_kernal.txt\n",
      "\n",
      " 7 directiories, 15 files\n"
     ]
    }
   ],
   "source": [
    "import glob, os.path\n",
    "ndir = nfile = 0\n",
    "\n",
    "\n",
    "def traverse(dir, depth):\n",
    "    \n",
    "    global ndir, nfile\n",
    "    \n",
    "    for obj in glob.glob(dir + '/*'):\n",
    "        if depth == 0:\n",
    "            prefix = '|--'\n",
    "        else:\n",
    "            prefix = '|' + '    ' * depth + '|--'\n",
    "\n",
    "        if os.path.isdir(obj):  # 디렉터리인 경우\n",
    "            ndir += 1\n",
    "            print(prefix + os.path.basename(obj))\n",
    "            traverse(obj, depth + 1)\n",
    "        elif os.path.isfile(obj):\n",
    "            nfile += 1\n",
    "            print(prefix + os.path.basename(obj))\n",
    "        else :\n",
    "            print(prefix + \"unknown object : \" + obj)\n",
    "\n",
    "if __name__ == '__main__':\n",
    "    traverse('C:/edu_busan_202305/01_python', 0) #원하는 디렉토리 지정\n",
    "    print('\\n',ndir,'directiories,',nfile,'files')"
   ]
  }
 ],
 "metadata": {
  "kernelspec": {
   "display_name": "busan_env_kernel",
   "language": "python",
   "name": "busan_env"
  },
  "language_info": {
   "codemirror_mode": {
    "name": "ipython",
    "version": 3
   },
   "file_extension": ".py",
   "mimetype": "text/x-python",
   "name": "python",
   "nbconvert_exporter": "python",
   "pygments_lexer": "ipython3",
   "version": "3.9.16"
  },
  "toc": {
   "base_numbering": 1,
   "nav_menu": {},
   "number_sections": true,
   "sideBar": true,
   "skip_h1_title": false,
   "title_cell": "Table of Contents",
   "title_sidebar": "Contents",
   "toc_cell": false,
   "toc_position": {},
   "toc_section_display": true,
   "toc_window_display": false
  }
 },
 "nbformat": 4,
 "nbformat_minor": 5
}
